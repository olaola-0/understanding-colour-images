{
 "cells": [
  {
   "cell_type": "markdown",
   "metadata": {},
   "source": [
    "### Understanding colour images with small arrays\n",
    "\n",
    "#### This script creates a 3D grid (10x10x3) and (28x28x3) using numpy and displays it as an image using matplotlib.\n",
    "#### The 3D grid is assumed to represent an RGB image. Initially, all pixel values are set to zero (black). Then, three colored squares are drawn within the grid. The squares are created by setting the corresponding RGB channels of certain pixels to 1.\n",
    "\n"
   ]
  },
  {
   "cell_type": "code",
   "execution_count": null,
   "metadata": {},
   "outputs": [],
   "source": [
    "\"\"\"Imports:\n",
    "    numpy (np): A module for numerical computations.\n",
    "    matplotlib.pyplot (plt): A module for creating static, animated, and interactive visualizations.\n",
    "    \"\"\"\n",
    "import numpy as np\n",
    "import matplotlib.pyplot as plt"
   ]
  },
  {
   "cell_type": "markdown",
   "metadata": {},
   "source": [
    "##### Here's a 10 x 10 x 3 array. Picture a 2D array with 10 rows and 10 columns (that's 100 pixels).\n",
    "##### Now take three of those 10 x 10 arrays and stack them on each other"
   ]
  },
  {
   "cell_type": "code",
   "execution_count": null,
   "metadata": {},
   "outputs": [],
   "source": [
    "# Create a 3D grid of zeros. The dimensions are 10x10x3, which could represent an RGB image of size 10x10.\n",
    "grid = np.zeros((10, 10, 3))"
   ]
  },
  {
   "cell_type": "code",
   "execution_count": null,
   "metadata": {},
   "outputs": [],
   "source": [
    "# Create a red square by setting the red channel (0) of a 5x5 region of the grid to 1.\n",
    "grid[2:7, 2:7, 0] = 1\n",
    "# Create a green square by setting the green channel (1) of a different 5x5 region of the grid to 1.\n",
    "grid[3:8, 3:8, 1] = 1\n",
    "# Create a blue square by setting the blue channel (2) of yet another 5x5 region of the grid to 1.\n",
    "grid[4:9, 4:9, 2] = 1"
   ]
  },
  {
   "cell_type": "code",
   "execution_count": null,
   "metadata": {},
   "outputs": [],
   "source": [
    "plt.imshow(grid)\n",
    "plt.show()"
   ]
  },
  {
   "cell_type": "code",
   "execution_count": null,
   "metadata": {},
   "outputs": [],
   "source": [
    "##### Now, we do the same for 28 x 28 arrays and stack them on each other"
   ]
  },
  {
   "cell_type": "code",
   "execution_count": null,
   "metadata": {},
   "outputs": [],
   "source": [
    "# Create a 3D grid of zeros. The dimensions are 28x28x3, which could represent an RGB image of size 28x28.\n",
    "grid_2 = np.zeros((28, 28, 3))"
   ]
  },
  {
   "cell_type": "code",
   "execution_count": null,
   "metadata": {},
   "outputs": [],
   "source": [
    "# Scale factor for the size and position of the squares. This is determined by (28/10).\n",
    "scale = 28 / 10"
   ]
  },
  {
   "cell_type": "code",
   "execution_count": null,
   "metadata": {},
   "outputs": [],
   "source": [
    "# Create a red square by setting the red channel (0) of a region of the grid to 1. The size and position are scaled up from the 10x10 image.\n",
    "grid_2[int(2*scale):int(7*scale), int(2*scale):int(7*scale), 0] = 1\n",
    "# Create a green square by setting the green channel (1) of a different region of the grid to 1. The size and position are scaled up from the 10x10 image.\n",
    "grid_2[int(3*scale):int(8*scale), int(3*scale):int(8*scale), 1] = 1\n",
    "# Create a blue square by setting the blue channel (2) of yet another region of the grid to 1. The size and position are scaled up from the 10x10 image.\n",
    "grid_2[int(4*scale):int(9*scale), int(4*scale):int(9*scale), 2] = 1\n"
   ]
  },
  {
   "cell_type": "code",
   "execution_count": null,
   "metadata": {},
   "outputs": [],
   "source": [
    "# Use matplotlib's imshow function to display the grid as an image.\n",
    "plt.imshow(grid_2)\n",
    "# Show the image.\n",
    "plt.show()"
   ]
  }
 ],
 "metadata": {
  "kernelspec": {
   "display_name": "Python 3.11.3 64-bit",
   "language": "python",
   "name": "python3"
  },
  "language_info": {
   "codemirror_mode": {
    "name": "ipython",
    "version": 3
   },
   "file_extension": ".py",
   "mimetype": "text/x-python",
   "name": "python",
   "nbconvert_exporter": "python",
   "pygments_lexer": "ipython3",
   "version": "3.11.3"
  },
  "orig_nbformat": 4,
  "vscode": {
   "interpreter": {
    "hash": "ebfc0a8d552866b0d59eba665220a57de3bc06f3ac643b8bef38dd8f66781fdd"
   }
  }
 },
 "nbformat": 4,
 "nbformat_minor": 2
}
